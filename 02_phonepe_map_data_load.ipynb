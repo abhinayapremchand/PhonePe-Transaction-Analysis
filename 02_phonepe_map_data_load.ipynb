{
 "cells": [
  {
   "cell_type": "markdown",
   "id": "cdf819f9-5936-4a04-8b84-a025bcf4b98c",
   "metadata": {},
   "source": [
    "# **LOADING MAP DATA**"
   ]
  },
  {
   "cell_type": "code",
   "execution_count": 2,
   "id": "43a7b8c2-3127-49c2-a921-6bcbb4d3d0d0",
   "metadata": {},
   "outputs": [],
   "source": [
    "import mysql.connector\n",
    "\n",
    "conn = mysql.connector.connect(\n",
    "    host='localhost',\n",
    "    user='root',\n",
    "    password='1234',\n",
    "    database='phonepe'\n",
    ")\n",
    "\n",
    "cursor = conn.cursor()\n"
   ]
  },
  {
   "cell_type": "code",
   "execution_count": 3,
   "id": "1bdb9b72-0e4e-47f7-8e43-fc3f3ed275c2",
   "metadata": {},
   "outputs": [],
   "source": [
    "import os\n",
    "import json\n",
    "\n",
    "def load_map_insurance_hover(base_path, cursor, conn):\n",
    "    for state in os.listdir(base_path):\n",
    "        state_path = os.path.join(base_path, state)\n",
    "        if not os.path.isdir(state_path):\n",
    "            continue\n",
    "\n",
    "        for year in os.listdir(state_path):\n",
    "            year_path = os.path.join(state_path, year)\n",
    "            for quarter_file in os.listdir(year_path):\n",
    "                if not quarter_file.endswith(\".json\"):\n",
    "                    continue\n",
    "\n",
    "                quarter = int(quarter_file.strip(\"q.json\"))\n",
    "                file_path = os.path.join(year_path, quarter_file)\n",
    "\n",
    "                with open(file_path, \"r\") as f:\n",
    "                    data = json.load(f)\n",
    "\n",
    "                try:\n",
    "                    hover_list = data[\"data\"][\"hoverDataList\"]\n",
    "                except KeyError:\n",
    "                    continue\n",
    "\n",
    "                for item in hover_list:\n",
    "                    district = item[\"name\"]\n",
    "                    metric = item[\"metric\"][0]\n",
    "                    count = metric.get(\"count\", 0)\n",
    "                    amount = metric.get(\"amount\", 0)\n",
    "\n",
    "                    cursor.execute(\"\"\"\n",
    "                        INSERT INTO map_insurance (year, quarter, state, district, insurance_count, insurance_amount)\n",
    "                        VALUES (%s, %s, %s, %s, %s, %s)\n",
    "                    \"\"\", (int(year), int(quarter), state, district, count, amount))\n",
    "\n",
    "    conn.commit()\n",
    "    print(\"map_insurance data from hover inserted.\")\n"
   ]
  },
  {
   "cell_type": "code",
   "execution_count": 4,
   "id": "a5d7e025-f804-40d8-a17c-1990bff064e3",
   "metadata": {},
   "outputs": [
    {
     "name": "stdout",
     "output_type": "stream",
     "text": [
      "map_insurance data from hover inserted.\n"
     ]
    }
   ],
   "source": [
    "base_path = r\"C:\\Users\\sharan\\Documents\\phonepe_transaction_insights\\data\\pulse-master\\pulse-master\\data\\map\\insurance\\hover\\country\\india\\state\"\n",
    "load_map_insurance_hover(base_path, cursor, conn)\n"
   ]
  }
 ],
 "metadata": {
  "kernelspec": {
   "display_name": "Python [conda env:base] *",
   "language": "python",
   "name": "conda-base-py"
  },
  "language_info": {
   "codemirror_mode": {
    "name": "ipython",
    "version": 3
   },
   "file_extension": ".py",
   "mimetype": "text/x-python",
   "name": "python",
   "nbconvert_exporter": "python",
   "pygments_lexer": "ipython3",
   "version": "3.12.7"
  }
 },
 "nbformat": 4,
 "nbformat_minor": 5
}
